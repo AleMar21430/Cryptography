{
 "cells": [
  {
   "cell_type": "code",
   "execution_count": 1,
   "metadata": {},
   "outputs": [],
   "source": [
    "import random\n",
    "\n",
    "def generate_keystream(length: int, seed: int) -> bytes:\n",
    "\trandom.seed(seed)\n",
    "\treturn bytes([random.randint(0, 255) for _ in range(length)])\n",
    "\n",
    "def xor_encrypt(plaintext: str, seed: int) -> bytes:\n",
    "\tplaintext_bytes = plaintext.encode()\n",
    "\tkeystream = generate_keystream(len(plaintext_bytes), seed)\n",
    "\tciphertext = bytes([p ^ k for p, k in zip(plaintext_bytes, keystream)])\n",
    "\treturn ciphertext\n",
    "\n",
    "def xor_decrypt(ciphertext: bytes, seed: int) -> str:\n",
    "\tkeystream = generate_keystream(len(ciphertext), seed)\n",
    "\tplaintext_bytes = bytes([c ^ k for c, k in zip(ciphertext, keystream)])\n",
    "\treturn plaintext_bytes.decode()"
   ]
  },
  {
   "cell_type": "code",
   "execution_count": 2,
   "metadata": {},
   "outputs": [
    {
     "name": "stdout",
     "output_type": "stream",
     "text": [
      "Mensaje original: Hola, mundo!\n",
      "Mensaje cifrado (hex): 9d6af4dd4faab227d15bb2a4\n",
      "Mensaje descifrado: Hola, mundo!\n"
     ]
    }
   ],
   "source": [
    "seed = 12345\n",
    "mensaje = \"Hola, mundo!\"\n",
    "cifrado = xor_encrypt(mensaje, seed)\n",
    "descifrado = xor_decrypt(cifrado, seed)\n",
    "\n",
    "print(f\"Mensaje original: {mensaje}\")\n",
    "print(f\"Mensaje cifrado (hex): {cifrado.hex()}\")\n",
    "print(f\"Mensaje descifrado: {descifrado}\")"
   ]
  },
  {
   "cell_type": "markdown",
   "metadata": {},
   "source": [
    "# 4\n",
    "- ¿Qué sucede cuando cambias la clave utilizada para generar el keystream?\n",
    "- ¿Qué riesgos de seguridad existen si reutilizas el mismo keystream para cifrar dos mensajes diferentes?\n",
    "- ¿Cómo afecta la longitud del keystream a la seguridad del cifrado?\n",
    "- ¿Qué consideraciones debes tener al generar un keystream en un entorno real?"
   ]
  }
 ],
 "metadata": {
  "kernelspec": {
   "display_name": "Python 3",
   "language": "python",
   "name": "python3"
  },
  "language_info": {
   "codemirror_mode": {
    "name": "ipython",
    "version": 3
   },
   "file_extension": ".py",
   "mimetype": "text/x-python",
   "name": "python",
   "nbconvert_exporter": "python",
   "pygments_lexer": "ipython3",
   "version": "3.11.2"
  }
 },
 "nbformat": 4,
 "nbformat_minor": 2
}
