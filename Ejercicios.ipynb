{
 "cells": [
  {
   "cell_type": "markdown",
   "metadata": {},
   "source": [
    "# Parte 1"
   ]
  },
  {
   "cell_type": "markdown",
   "metadata": {},
   "source": [
    "# Vigenère\n",
    "## Ventajas\n",
    "* Mayor seguridad: Al ser polialfabético, es más difícil de romper mediante análisis de frecuencia.\n",
    "* Simplicidad: Es fácil de implementar y entender.\n",
    "* Historia significativa: Fue un avance notable en la criptografía durante el Renacimiento.\n",
    "## Vulnerabilidades\n",
    "* Ataque de Kasiski: Si la longitud de la clave es descubierta, el cifrado puede dividirse en subproblemas de cifrados César.\n",
    "* Dependencia de la clave: Si la clave es corta o se reutiliza, el cifrado es vulnerable a ataques de fuerza bruta o de frecuencia.\n",
    "* No es seguro contra herramientas modernas: Con el poder computacional actual, este cifrado puede romperse rápidamente."
   ]
  },
  {
   "cell_type": "code",
   "execution_count": 12,
   "metadata": {},
   "outputs": [
    {
     "name": "stdout",
     "output_type": "stream",
     "text": [
      "Texto original: HELLO\n",
      "Texto cifrado (Vigenère): RIJVS\n",
      "Texto descifrado (Vigenère): HELLO\n"
     ]
    }
   ],
   "source": [
    "def vigenere_encrypt(text, key):\n",
    "\tencrypted_text = ''\n",
    "\tkey = (key * (len(text) // len(key) + 1))[:len(text)]\n",
    "\tfor t, k in zip(text, key):\n",
    "\t\tencrypted_char = chr(((ord(t) - ord('A')) + (ord(k) - ord('A'))) % 26 + ord('A'))\n",
    "\t\tencrypted_text += encrypted_char\n",
    "\treturn encrypted_text\n",
    "\n",
    "def vigenere_decrypt(encrypted_text, key):\n",
    "\tdecrypted_text = ''\n",
    "\tkey = (key * (len(encrypted_text) // len(key) + 1))[:len(encrypted_text)]\n",
    "\tfor e, k in zip(encrypted_text, key):\n",
    "\t\tdecrypted_char = chr(((ord(e) - ord('A')) - (ord(k) - ord('A')) + 26) % 26 + ord('A'))\n",
    "\t\tdecrypted_text += decrypted_char\n",
    "\treturn decrypted_text\n",
    "\n",
    "vigenere_text = \"HELLO\"\n",
    "vigenere_key = \"KEY\"\n",
    "encrypted = vigenere_encrypt(vigenere_text, vigenere_key)\n",
    "decrypted = vigenere_decrypt(encrypted, vigenere_key)\n",
    "\n",
    "print(\"Texto original:\", vigenere_text)\n",
    "print(\"Texto cifrado (Vigenère):\", encrypted)\n",
    "print(\"Texto descifrado (Vigenère):\", decrypted)"
   ]
  },
  {
   "cell_type": "markdown",
   "metadata": {},
   "source": [
    "# Parte 2"
   ]
  },
  {
   "cell_type": "code",
   "execution_count": 13,
   "metadata": {},
   "outputs": [],
   "source": [
    "import random\n",
    "base64_chars = \"ABCDEFGHIJKLMNOPQRSTUVWXYZabcdefghijklmnopqrstuvwxyz0123456789+/\""
   ]
  },
  {
   "cell_type": "code",
   "execution_count": 14,
   "metadata": {},
   "outputs": [],
   "source": [
    "def ascii_to_binary(text):\n",
    "\treturn ''.join(format(ord(char), '08b') for char in text)"
   ]
  },
  {
   "cell_type": "code",
   "execution_count": 15,
   "metadata": {},
   "outputs": [],
   "source": [
    "def base64_to_binary(b64_text):\n",
    "\tbinary_string = ''\n",
    "\tfor char in b64_text:\n",
    "\t\tif char == '=':\n",
    "\t\t\tbreak\n",
    "\t\tbinary_string += format(base64_chars.index(char), '06b')\n",
    "\treturn binary_string"
   ]
  },
  {
   "cell_type": "code",
   "execution_count": 16,
   "metadata": {},
   "outputs": [],
   "source": [
    "def binary_to_base64(binary):\n",
    "\tpadding = (6 - len(binary) % 6) % 6\n",
    "\tbinary += '0' * padding\n",
    "\tencoded = ''\n",
    "\tfor i in range(0, len(binary), 6):\n",
    "\t\tencoded += base64_chars[int(binary[i:i+6], 2)]\n",
    "\tif padding:\n",
    "\t\tencoded += '=' * (padding // 2)\n",
    "\treturn encoded"
   ]
  },
  {
   "cell_type": "code",
   "execution_count": 17,
   "metadata": {},
   "outputs": [],
   "source": [
    "def binary_to_ascii(binary):\n",
    "\tchars = [chr(int(binary[i:i+8], 2)) for i in range(0, len(binary), 8)]\n",
    "\treturn ''.join(chars)"
   ]
  },
  {
   "cell_type": "code",
   "execution_count": 18,
   "metadata": {},
   "outputs": [],
   "source": [
    "def base64_to_ascii(b64_text):\n",
    "\tbinary = base64_to_binary(b64_text)\n",
    "\treturn binary_to_ascii(binary)"
   ]
  },
  {
   "cell_type": "code",
   "execution_count": 19,
   "metadata": {},
   "outputs": [],
   "source": [
    "def xor_binary(binary, key):\n",
    "\tkey = (key * (len(binary) // len(key) + 1))[:len(binary)]\n",
    "\treturn ''.join(str(int(b) ^ int(k)) for b, k in zip(binary, key))"
   ]
  },
  {
   "cell_type": "code",
   "execution_count": 20,
   "metadata": {},
   "outputs": [],
   "source": [
    "def generate_dynamic_key(length):\n",
    "\treturn ''.join(chr(random.randint(32, 126)) for _ in range(length))"
   ]
  },
  {
   "cell_type": "code",
   "execution_count": 21,
   "metadata": {},
   "outputs": [],
   "source": [
    "def generate_cipher_with_fixed_key(ascii_text, key):\n",
    "\tbinary_text = ascii_to_binary(ascii_text)\n",
    "\tbinary_key = ascii_to_binary(key)\n",
    "\txor_result = xor_binary(binary_text, binary_key)\n",
    "\treturn binary_to_ascii(xor_result)"
   ]
  },
  {
   "cell_type": "code",
   "execution_count": 22,
   "metadata": {},
   "outputs": [],
   "source": [
    "def generate_cipher_with_dynamic_key(ascii_text, key_length):\n",
    "\tdynamic_key = generate_dynamic_key(key_length)\n",
    "\treturn generate_cipher_with_fixed_key(ascii_text, dynamic_key)"
   ]
  },
  {
   "cell_type": "code",
   "execution_count": 23,
   "metadata": {},
   "outputs": [
    {
     "name": "stdout",
     "output_type": "stream",
     "text": [
      "ASCII a Binario: 01001000011011110110110001100001\n",
      "Base64 a Binario: 010010000110111101101100011000010000\n",
      "Binario a Base64: SG9sYQ==\n",
      "Binario a ASCII: Hola\n",
      "Base64 a ASCII: Hola\u0000\n",
      "XOR Binario: 00100011000010100001010100001010\n",
      "Llave dinámica: TLeyO#>D\n",
      "Cifrado con llave fija: %\u00063\n",
      "Cifrado con llave dinámica: -:\u0003Y\n"
     ]
    }
   ],
   "source": [
    "text = \"Hola\"\n",
    "b64_text = \"SG9sYQ==\"\n",
    "\n",
    "print(\"ASCII a Binario:\", ascii_to_binary(text))\n",
    "print(\"Base64 a Binario:\", base64_to_binary(b64_text))\n",
    "print(\"Binario a Base64:\", binary_to_base64(ascii_to_binary(text)))\n",
    "print(\"Binario a ASCII:\", binary_to_ascii(ascii_to_binary(text)))\n",
    "print(\"Base64 a ASCII:\", base64_to_ascii(b64_text))\n",
    "\n",
    "binary = ascii_to_binary(text)\n",
    "key = ascii_to_binary(\"key\")\n",
    "print(\"XOR Binario:\", xor_binary(binary, key))\n",
    "\n",
    "dynamic_key = generate_dynamic_key(8)\n",
    "print(\"Llave dinámica:\", dynamic_key)\n",
    "\n",
    "fixed_key = \"mi_llave\"\n",
    "print(\"Cifrado con llave fija:\", generate_cipher_with_fixed_key(text, fixed_key))\n",
    "print(\"Cifrado con llave dinámica:\", generate_cipher_with_dynamic_key(text, 8))"
   ]
  }
 ],
 "metadata": {
  "kernelspec": {
   "display_name": "Python 3",
   "language": "python",
   "name": "python3"
  },
  "language_info": {
   "codemirror_mode": {
    "name": "ipython",
    "version": 3
   },
   "file_extension": ".py",
   "mimetype": "text/x-python",
   "name": "python",
   "nbconvert_exporter": "python",
   "pygments_lexer": "ipython3",
   "version": "3.11.2"
  }
 },
 "nbformat": 4,
 "nbformat_minor": 2
}
