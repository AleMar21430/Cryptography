{
 "cells": [
  {
   "cell_type": "code",
   "execution_count": 12,
   "metadata": {},
   "outputs": [],
   "source": [
    "def text_to_bits(text):\n",
    "\treturn ''.join(f'{ord(c):08b}' for c in text)\n",
    "\n",
    "def bits_to_text(bits):\n",
    "\treturn ''.join(chr(int(bits[i:i+8], 2)) for i in range(0, len(bits), 8))\n",
    "\n",
    "def text_to_base64(text):\n",
    "\tbinary_string = text_to_bits(text)\n",
    "\tbyte_array = [binary_string[i:i+6].ljust(6, '0') for i in range(0, len(binary_string), 6)]\n",
    "\tbase64_chars = \"ABCDEFGHIJKLMNOPQRSTUVWXYZabcdefghijklmnopqrstuvwxyz0123456789+/\"\n",
    "\tbase64_string = ''.join(base64_chars[int(b, 2)] for b in byte_array)\n",
    "\tpadding = (4 - len(base64_string) % 4) % 4\n",
    "\treturn base64_string + \"=\" * padding\n",
    "\n",
    "def base64_to_text(encoded):\n",
    "\tbase64_chars = \"ABCDEFGHIJKLMNOPQRSTUVWXYZabcdefghijklmnopqrstuvwxyz0123456789+/\"\n",
    "\tbinary_string = ''.join(f'{base64_chars.index(c):06b}' for c in encoded if c in base64_chars)\n",
    "\treturn bits_to_text(binary_string)\n",
    "\n",
    "def xor_strings(text, key):\n",
    "\tkey = (key * (len(text) // len(key) + 1))[:len(text)]  # Expandir la llave si es necesario\n",
    "\treturn ''.join(chr(ord(a) ^ ord(b)) for a, b in zip(text, key))"
   ]
  },
  {
   "cell_type": "code",
   "execution_count": 13,
   "metadata": {},
   "outputs": [
    {
     "name": "stdout",
     "output_type": "stream",
     "text": [
      "Texto a bits: 01001000011011110110110001100001\n",
      "Bits a texto: Hola\n",
      "Texto a bits: 010010000110111101101100011000010100110101110101011011100110010001101111\n",
      "Bits a texto: HolaMundo\n"
     ]
    }
   ],
   "source": [
    "text_a = \"Hola\"\n",
    "key_a = \"key\"\n",
    "\n",
    "text_b = \"HolaMundo\"\n",
    "key_b = \"llave\"\n",
    "\n",
    "print(\"Texto a bits:\", text_to_bits(text_a))\n",
    "print(\"Bits a texto:\", bits_to_text(text_to_bits(text_a)))\n",
    "print(\"Texto a bits:\", text_to_bits(text_b))\n",
    "print(\"Bits a texto:\", bits_to_text(text_to_bits(text_b)))"
   ]
  },
  {
   "cell_type": "code",
   "execution_count": 14,
   "metadata": {},
   "outputs": [
    {
     "name": "stdout",
     "output_type": "stream",
     "text": [
      "Texto a Base64: SG9sYQ==\n",
      "Base64 a texto: Hola\u0000\n",
      "Texto a Base64: SG9sYU11bmRv\n",
      "Base64 a texto: HolaMundo\n"
     ]
    }
   ],
   "source": [
    "print(\"Texto a Base64:\", text_to_base64(text_a))\n",
    "print(\"Base64 a texto:\", base64_to_text(text_to_base64(text_a)))\n",
    "print(\"Texto a Base64:\", text_to_base64(text_b))\n",
    "print(\"Base64 a texto:\", base64_to_text(text_to_base64(text_b)))"
   ]
  },
  {
   "cell_type": "code",
   "execution_count": 15,
   "metadata": {},
   "outputs": [
    {
     "name": "stdout",
     "output_type": "stream",
     "text": [
      "XOR entre texto y llave: '#\\n\\x15\\n'\n",
      "XOR entre texto y llave: '$\\x03\\r\\x17(\\x19\\x02\\x05\\x19'\n"
     ]
    }
   ],
   "source": [
    "print(\"XOR entre texto y llave:\", repr(xor_strings(text_a, key_a)))\n",
    "print(\"XOR entre texto y llave:\", repr(xor_strings(text_b, key_b)))"
   ]
  }
 ],
 "metadata": {
  "kernelspec": {
   "display_name": "Python 3",
   "language": "python",
   "name": "python3"
  },
  "language_info": {
   "codemirror_mode": {
    "name": "ipython",
    "version": 3
   },
   "file_extension": ".py",
   "mimetype": "text/x-python",
   "name": "python",
   "nbconvert_exporter": "python",
   "pygments_lexer": "ipython3",
   "version": "3.11.2"
  }
 },
 "nbformat": 4,
 "nbformat_minor": 2
}
