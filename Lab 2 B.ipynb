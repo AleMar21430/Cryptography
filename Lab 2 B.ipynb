{
 "cells": [
  {
   "cell_type": "code",
   "execution_count": 2,
   "metadata": {},
   "outputs": [],
   "source": [
    "from PIL import Image\n",
    "\n",
    "def xor_images(image1_path, image2_path, output_path):\n",
    "\timg1 = Image.open(image1_path).convert('RGBA')\n",
    "\timg2 = Image.open(image2_path).convert('RGBA')\n",
    "\n",
    "\timg2 = img2.resize(img1.size)\n",
    "\n",
    "\tpixels1 = img1.load()\n",
    "\tpixels2 = img2.load()\n",
    "\n",
    "\tresult_img = Image.new('RGBA', img1.size)\n",
    "\tresult_pixels = result_img.load()\n",
    "\n",
    "\tfor x in range(img1.width):\n",
    "\t\tfor y in range(img1.height):\n",
    "\t\t\tr1, g1, b1, a1 = pixels1[x, y]\n",
    "\t\t\tr2, g2, b2, a2 = pixels2[x, y]\n",
    "\n",
    "\t\t\tr = r1 ^ r2\n",
    "\t\t\tg = g1 ^ g2\n",
    "\t\t\tb = b1 ^ b2\n",
    "\t\t\ta = min(a1, a2)\n",
    "\t\t\t\n",
    "\t\t\tresult_pixels[x, y] = (r, g, b, a)\n",
    "\n",
    "\tresult_img.save(output_path)\n",
    "\n",
    "xor_images('1.png', '2.png', 'xor.png')"
   ]
  },
  {
   "cell_type": "code",
   "execution_count": null,
   "metadata": {},
   "outputs": [],
   "source": [
    "def xor_with_key(image_path, key, output_path):\n",
    "\timg = Image.open(image_path).convert('RGBA')\n",
    "\n",
    "\tpixels = img.load()\n",
    "\n",
    "\tkey_bytes = key.encode()\n",
    "\tkey_length = len(key_bytes)\n",
    "\n",
    "\tresult_img = Image.new('RGBA', img.size)\n",
    "\tresult_pixels = result_img.load()\n",
    "\n",
    "\tfor x in range(img.width):\n",
    "\t\tfor y in range(img.height):\n",
    "\t\t\tr, g, b, a = pixels[x, y]\n",
    "\t\t\tkey_byte = key_bytes[(x + y) % key_length]\n",
    "\n",
    "\t\t\tr ^= key_byte\n",
    "\t\t\tg ^= key_byte\n",
    "\t\t\tb ^= key_byte\n",
    "\t\t\t\n",
    "\t\t\tresult_pixels[x, y] = (r, g, b, a)\n",
    "\n",
    "\tresult_img.save(output_path)\n",
    "\n",
    "xor_with_key('1.png', 'peko', 'key.png')"
   ]
  }
 ],
 "metadata": {
  "kernelspec": {
   "display_name": "Python 3",
   "language": "python",
   "name": "python3"
  },
  "language_info": {
   "codemirror_mode": {
    "name": "ipython",
    "version": 3
   },
   "file_extension": ".py",
   "mimetype": "text/x-python",
   "name": "python",
   "nbconvert_exporter": "python",
   "pygments_lexer": "ipython3",
   "version": "3.11.2"
  }
 },
 "nbformat": 4,
 "nbformat_minor": 2
}
